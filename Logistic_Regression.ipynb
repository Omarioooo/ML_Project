{
 "cells": [
  {
   "cell_type": "code",
   "execution_count": 2,
   "id": "1a8c9540",
   "metadata": {},
   "outputs": [],
   "source": [
    "import pandas as pd\n",
    "import matplotlib.pyplot as plt\n",
    "import seaborn as sns\n",
    "from sklearn.linear_model import LogisticRegression\n",
    "from sklearn.model_selection import train_test_split\n",
    "from sklearn.preprocessing import OneHotEncoder, StandardScaler\n",
    "from sklearn.metrics import accuracy_score, classification_report, confusion_matrix"
   ]
  },
  {
   "cell_type": "markdown",
   "id": "63177d1c",
   "metadata": {},
   "source": [
    "# Logistic Regression with Classification\n"
   ]
  },
  {
   "cell_type": "code",
   "execution_count": 3,
   "id": "40c5a05e",
   "metadata": {},
   "outputs": [],
   "source": [
    "# load Data using pandas\n",
    "path = 'DataSets\\\\healthcare-dataset-stroke-data.csv'\n",
    "logistic_data = pd.read_csv(path)"
   ]
  },
  {
   "cell_type": "markdown",
   "id": "4bf6fdf7",
   "metadata": {},
   "source": [
    "<span style=\"color: green; font-weight: bold; font-size: 30px;\">Pre-Processing for logistic analysis...</span>\n"
   ]
  },
  {
   "cell_type": "code",
   "execution_count": 456,
   "id": "234e0618",
   "metadata": {},
   "outputs": [
    {
     "data": {
      "application/vnd.microsoft.datawrangler.viewer.v0+json": {
       "columns": [
        {
         "name": "index",
         "rawType": "int64",
         "type": "integer"
        },
        {
         "name": "id",
         "rawType": "int64",
         "type": "integer"
        },
        {
         "name": "gender",
         "rawType": "object",
         "type": "string"
        },
        {
         "name": "age",
         "rawType": "float64",
         "type": "float"
        },
        {
         "name": "hypertension",
         "rawType": "int64",
         "type": "integer"
        },
        {
         "name": "heart_disease",
         "rawType": "int64",
         "type": "integer"
        },
        {
         "name": "ever_married",
         "rawType": "object",
         "type": "string"
        },
        {
         "name": "work_type",
         "rawType": "object",
         "type": "string"
        },
        {
         "name": "Residence_type",
         "rawType": "object",
         "type": "string"
        },
        {
         "name": "avg_glucose_level",
         "rawType": "float64",
         "type": "float"
        },
        {
         "name": "bmi",
         "rawType": "float64",
         "type": "float"
        },
        {
         "name": "smoking_status",
         "rawType": "object",
         "type": "string"
        },
        {
         "name": "stroke",
         "rawType": "int64",
         "type": "integer"
        }
       ],
       "conversionMethod": "pd.DataFrame",
       "ref": "c147cf18-a933-4994-98f5-e9510c429485",
       "rows": [
        [
         "0",
         "9046",
         "Male",
         "67.0",
         "0",
         "1",
         "Yes",
         "Private",
         "Urban",
         "228.69",
         "36.6",
         "formerly smoked",
         "1"
        ],
        [
         "1",
         "51676",
         "Female",
         "61.0",
         "0",
         "0",
         "Yes",
         "Self-employed",
         "Rural",
         "202.21",
         null,
         "never smoked",
         "1"
        ],
        [
         "2",
         "31112",
         "Male",
         "80.0",
         "0",
         "1",
         "Yes",
         "Private",
         "Rural",
         "105.92",
         "32.5",
         "never smoked",
         "1"
        ],
        [
         "3",
         "60182",
         "Female",
         "49.0",
         "0",
         "0",
         "Yes",
         "Private",
         "Urban",
         "171.23",
         "34.4",
         "smokes",
         "1"
        ],
        [
         "4",
         "1665",
         "Female",
         "79.0",
         "1",
         "0",
         "Yes",
         "Self-employed",
         "Rural",
         "174.12",
         "24.0",
         "never smoked",
         "1"
        ],
        [
         "5",
         "56669",
         "Male",
         "81.0",
         "0",
         "0",
         "Yes",
         "Private",
         "Urban",
         "186.21",
         "29.0",
         "formerly smoked",
         "1"
        ],
        [
         "6",
         "53882",
         "Male",
         "74.0",
         "1",
         "1",
         "Yes",
         "Private",
         "Rural",
         "70.09",
         "27.4",
         "never smoked",
         "1"
        ],
        [
         "7",
         "10434",
         "Female",
         "69.0",
         "0",
         "0",
         "No",
         "Private",
         "Urban",
         "94.39",
         "22.8",
         "never smoked",
         "1"
        ],
        [
         "8",
         "27419",
         "Female",
         "59.0",
         "0",
         "0",
         "Yes",
         "Private",
         "Rural",
         "76.15",
         null,
         "Unknown",
         "1"
        ],
        [
         "9",
         "60491",
         "Female",
         "78.0",
         "0",
         "0",
         "Yes",
         "Private",
         "Urban",
         "58.57",
         "24.2",
         "Unknown",
         "1"
        ]
       ],
       "shape": {
        "columns": 12,
        "rows": 10
       }
      },
      "text/html": [
       "<div>\n",
       "<style scoped>\n",
       "    .dataframe tbody tr th:only-of-type {\n",
       "        vertical-align: middle;\n",
       "    }\n",
       "\n",
       "    .dataframe tbody tr th {\n",
       "        vertical-align: top;\n",
       "    }\n",
       "\n",
       "    .dataframe thead th {\n",
       "        text-align: right;\n",
       "    }\n",
       "</style>\n",
       "<table border=\"1\" class=\"dataframe\">\n",
       "  <thead>\n",
       "    <tr style=\"text-align: right;\">\n",
       "      <th></th>\n",
       "      <th>id</th>\n",
       "      <th>gender</th>\n",
       "      <th>age</th>\n",
       "      <th>hypertension</th>\n",
       "      <th>heart_disease</th>\n",
       "      <th>ever_married</th>\n",
       "      <th>work_type</th>\n",
       "      <th>Residence_type</th>\n",
       "      <th>avg_glucose_level</th>\n",
       "      <th>bmi</th>\n",
       "      <th>smoking_status</th>\n",
       "      <th>stroke</th>\n",
       "    </tr>\n",
       "  </thead>\n",
       "  <tbody>\n",
       "    <tr>\n",
       "      <th>0</th>\n",
       "      <td>9046</td>\n",
       "      <td>Male</td>\n",
       "      <td>67.0</td>\n",
       "      <td>0</td>\n",
       "      <td>1</td>\n",
       "      <td>Yes</td>\n",
       "      <td>Private</td>\n",
       "      <td>Urban</td>\n",
       "      <td>228.69</td>\n",
       "      <td>36.6</td>\n",
       "      <td>formerly smoked</td>\n",
       "      <td>1</td>\n",
       "    </tr>\n",
       "    <tr>\n",
       "      <th>1</th>\n",
       "      <td>51676</td>\n",
       "      <td>Female</td>\n",
       "      <td>61.0</td>\n",
       "      <td>0</td>\n",
       "      <td>0</td>\n",
       "      <td>Yes</td>\n",
       "      <td>Self-employed</td>\n",
       "      <td>Rural</td>\n",
       "      <td>202.21</td>\n",
       "      <td>NaN</td>\n",
       "      <td>never smoked</td>\n",
       "      <td>1</td>\n",
       "    </tr>\n",
       "    <tr>\n",
       "      <th>2</th>\n",
       "      <td>31112</td>\n",
       "      <td>Male</td>\n",
       "      <td>80.0</td>\n",
       "      <td>0</td>\n",
       "      <td>1</td>\n",
       "      <td>Yes</td>\n",
       "      <td>Private</td>\n",
       "      <td>Rural</td>\n",
       "      <td>105.92</td>\n",
       "      <td>32.5</td>\n",
       "      <td>never smoked</td>\n",
       "      <td>1</td>\n",
       "    </tr>\n",
       "    <tr>\n",
       "      <th>3</th>\n",
       "      <td>60182</td>\n",
       "      <td>Female</td>\n",
       "      <td>49.0</td>\n",
       "      <td>0</td>\n",
       "      <td>0</td>\n",
       "      <td>Yes</td>\n",
       "      <td>Private</td>\n",
       "      <td>Urban</td>\n",
       "      <td>171.23</td>\n",
       "      <td>34.4</td>\n",
       "      <td>smokes</td>\n",
       "      <td>1</td>\n",
       "    </tr>\n",
       "    <tr>\n",
       "      <th>4</th>\n",
       "      <td>1665</td>\n",
       "      <td>Female</td>\n",
       "      <td>79.0</td>\n",
       "      <td>1</td>\n",
       "      <td>0</td>\n",
       "      <td>Yes</td>\n",
       "      <td>Self-employed</td>\n",
       "      <td>Rural</td>\n",
       "      <td>174.12</td>\n",
       "      <td>24.0</td>\n",
       "      <td>never smoked</td>\n",
       "      <td>1</td>\n",
       "    </tr>\n",
       "    <tr>\n",
       "      <th>5</th>\n",
       "      <td>56669</td>\n",
       "      <td>Male</td>\n",
       "      <td>81.0</td>\n",
       "      <td>0</td>\n",
       "      <td>0</td>\n",
       "      <td>Yes</td>\n",
       "      <td>Private</td>\n",
       "      <td>Urban</td>\n",
       "      <td>186.21</td>\n",
       "      <td>29.0</td>\n",
       "      <td>formerly smoked</td>\n",
       "      <td>1</td>\n",
       "    </tr>\n",
       "    <tr>\n",
       "      <th>6</th>\n",
       "      <td>53882</td>\n",
       "      <td>Male</td>\n",
       "      <td>74.0</td>\n",
       "      <td>1</td>\n",
       "      <td>1</td>\n",
       "      <td>Yes</td>\n",
       "      <td>Private</td>\n",
       "      <td>Rural</td>\n",
       "      <td>70.09</td>\n",
       "      <td>27.4</td>\n",
       "      <td>never smoked</td>\n",
       "      <td>1</td>\n",
       "    </tr>\n",
       "    <tr>\n",
       "      <th>7</th>\n",
       "      <td>10434</td>\n",
       "      <td>Female</td>\n",
       "      <td>69.0</td>\n",
       "      <td>0</td>\n",
       "      <td>0</td>\n",
       "      <td>No</td>\n",
       "      <td>Private</td>\n",
       "      <td>Urban</td>\n",
       "      <td>94.39</td>\n",
       "      <td>22.8</td>\n",
       "      <td>never smoked</td>\n",
       "      <td>1</td>\n",
       "    </tr>\n",
       "    <tr>\n",
       "      <th>8</th>\n",
       "      <td>27419</td>\n",
       "      <td>Female</td>\n",
       "      <td>59.0</td>\n",
       "      <td>0</td>\n",
       "      <td>0</td>\n",
       "      <td>Yes</td>\n",
       "      <td>Private</td>\n",
       "      <td>Rural</td>\n",
       "      <td>76.15</td>\n",
       "      <td>NaN</td>\n",
       "      <td>Unknown</td>\n",
       "      <td>1</td>\n",
       "    </tr>\n",
       "    <tr>\n",
       "      <th>9</th>\n",
       "      <td>60491</td>\n",
       "      <td>Female</td>\n",
       "      <td>78.0</td>\n",
       "      <td>0</td>\n",
       "      <td>0</td>\n",
       "      <td>Yes</td>\n",
       "      <td>Private</td>\n",
       "      <td>Urban</td>\n",
       "      <td>58.57</td>\n",
       "      <td>24.2</td>\n",
       "      <td>Unknown</td>\n",
       "      <td>1</td>\n",
       "    </tr>\n",
       "  </tbody>\n",
       "</table>\n",
       "</div>"
      ],
      "text/plain": [
       "      id  gender   age  hypertension  heart_disease ever_married  \\\n",
       "0   9046    Male  67.0             0              1          Yes   \n",
       "1  51676  Female  61.0             0              0          Yes   \n",
       "2  31112    Male  80.0             0              1          Yes   \n",
       "3  60182  Female  49.0             0              0          Yes   \n",
       "4   1665  Female  79.0             1              0          Yes   \n",
       "5  56669    Male  81.0             0              0          Yes   \n",
       "6  53882    Male  74.0             1              1          Yes   \n",
       "7  10434  Female  69.0             0              0           No   \n",
       "8  27419  Female  59.0             0              0          Yes   \n",
       "9  60491  Female  78.0             0              0          Yes   \n",
       "\n",
       "       work_type Residence_type  avg_glucose_level   bmi   smoking_status  \\\n",
       "0        Private          Urban             228.69  36.6  formerly smoked   \n",
       "1  Self-employed          Rural             202.21   NaN     never smoked   \n",
       "2        Private          Rural             105.92  32.5     never smoked   \n",
       "3        Private          Urban             171.23  34.4           smokes   \n",
       "4  Self-employed          Rural             174.12  24.0     never smoked   \n",
       "5        Private          Urban             186.21  29.0  formerly smoked   \n",
       "6        Private          Rural              70.09  27.4     never smoked   \n",
       "7        Private          Urban              94.39  22.8     never smoked   \n",
       "8        Private          Rural              76.15   NaN          Unknown   \n",
       "9        Private          Urban              58.57  24.2          Unknown   \n",
       "\n",
       "   stroke  \n",
       "0       1  \n",
       "1       1  \n",
       "2       1  \n",
       "3       1  \n",
       "4       1  \n",
       "5       1  \n",
       "6       1  \n",
       "7       1  \n",
       "8       1  \n",
       "9       1  "
      ]
     },
     "execution_count": 456,
     "metadata": {},
     "output_type": "execute_result"
    }
   ],
   "source": [
    "# show the first 10 rows\n",
    "logistic_data.head(10)"
   ]
  },
  {
   "cell_type": "code",
   "execution_count": 457,
   "id": "cf839724",
   "metadata": {},
   "outputs": [
    {
     "data": {
      "text/plain": [
       "(5110, 12)"
      ]
     },
     "execution_count": 457,
     "metadata": {},
     "output_type": "execute_result"
    }
   ],
   "source": [
    "logistic_data.shape"
   ]
  },
  {
   "cell_type": "code",
   "execution_count": 458,
   "id": "b70581e9",
   "metadata": {},
   "outputs": [],
   "source": [
    "# Drop the unnecessary columns\n",
    "logistic_data.drop(['id'], axis=1, inplace=True)"
   ]
  },
  {
   "cell_type": "code",
   "execution_count": 459,
   "id": "fba1e242",
   "metadata": {},
   "outputs": [
    {
     "data": {
      "text/plain": [
       "(5110, 11)"
      ]
     },
     "execution_count": 459,
     "metadata": {},
     "output_type": "execute_result"
    }
   ],
   "source": [
    "logistic_data.shape"
   ]
  },
  {
   "cell_type": "code",
   "execution_count": 460,
   "id": "5cd165ca",
   "metadata": {},
   "outputs": [
    {
     "name": "stdout",
     "output_type": "stream",
     "text": [
      "<class 'pandas.core.frame.DataFrame'>\n",
      "RangeIndex: 5110 entries, 0 to 5109\n",
      "Data columns (total 11 columns):\n",
      " #   Column             Non-Null Count  Dtype  \n",
      "---  ------             --------------  -----  \n",
      " 0   gender             5110 non-null   object \n",
      " 1   age                5110 non-null   float64\n",
      " 2   hypertension       5110 non-null   int64  \n",
      " 3   heart_disease      5110 non-null   int64  \n",
      " 4   ever_married       5110 non-null   object \n",
      " 5   work_type          5110 non-null   object \n",
      " 6   Residence_type     5110 non-null   object \n",
      " 7   avg_glucose_level  5110 non-null   float64\n",
      " 8   bmi                4909 non-null   float64\n",
      " 9   smoking_status     5110 non-null   object \n",
      " 10  stroke             5110 non-null   int64  \n",
      "dtypes: float64(3), int64(3), object(5)\n",
      "memory usage: 439.3+ KB\n"
     ]
    }
   ],
   "source": [
    "logistic_data.info()"
   ]
  },
  {
   "cell_type": "markdown",
   "id": "e8176652",
   "metadata": {},
   "source": [
    "**bmi contains 201 null value...**\n"
   ]
  },
  {
   "cell_type": "code",
   "execution_count": 461,
   "id": "ccc7a719",
   "metadata": {},
   "outputs": [],
   "source": [
    "logistic_data.dropna(inplace= True)"
   ]
  },
  {
   "cell_type": "markdown",
   "id": "101e1674",
   "metadata": {},
   "source": [
    "<span style=\"color: red; font-size: 30px\">Encoding the categorical data</span>\n"
   ]
  },
  {
   "cell_type": "markdown",
   "id": "50fbda39",
   "metadata": {},
   "source": [
    "<span style=\"color: blue; font-size: 25px\">-- gender column</span>\n"
   ]
  },
  {
   "cell_type": "code",
   "execution_count": 462,
   "id": "d0053dc1",
   "metadata": {},
   "outputs": [
    {
     "data": {
      "text/plain": [
       "array(['Male', 'Female', 'Other'], dtype=object)"
      ]
     },
     "execution_count": 462,
     "metadata": {},
     "output_type": "execute_result"
    }
   ],
   "source": [
    "logistic_data['gender'].unique()"
   ]
  },
  {
   "cell_type": "code",
   "execution_count": 463,
   "id": "fe112550",
   "metadata": {},
   "outputs": [
    {
     "data": {
      "text/plain": [
       "gender\n",
       "Female    2897\n",
       "Male      2011\n",
       "Other        1\n",
       "Name: count, dtype: int64"
      ]
     },
     "execution_count": 463,
     "metadata": {},
     "output_type": "execute_result"
    }
   ],
   "source": [
    "logistic_data['gender'].value_counts()"
   ]
  },
  {
   "cell_type": "code",
   "execution_count": 464,
   "id": "b816f866",
   "metadata": {},
   "outputs": [],
   "source": [
    "#drop the other gender type\n",
    "logistic_data = logistic_data[logistic_data['gender'] != 'Other']"
   ]
  },
  {
   "cell_type": "code",
   "execution_count": 465,
   "id": "be08f863",
   "metadata": {},
   "outputs": [
    {
     "data": {
      "text/plain": [
       "gender\n",
       "Female    2897\n",
       "Male      2011\n",
       "Name: count, dtype: int64"
      ]
     },
     "execution_count": 465,
     "metadata": {},
     "output_type": "execute_result"
    }
   ],
   "source": [
    "logistic_data['gender'].value_counts()"
   ]
  },
  {
   "cell_type": "code",
   "execution_count": 466,
   "id": "24b3f90e",
   "metadata": {},
   "outputs": [],
   "source": [
    "# encode male with 1 and female to 0\n",
    "logistic_data['gender'] = [1 if value == 'Male' else 0 for value in logistic_data['gender']]"
   ]
  },
  {
   "cell_type": "code",
   "execution_count": 467,
   "id": "e5693ce7",
   "metadata": {},
   "outputs": [
    {
     "data": {
      "text/plain": [
       "array([1, 0])"
      ]
     },
     "execution_count": 467,
     "metadata": {},
     "output_type": "execute_result"
    }
   ],
   "source": [
    "logistic_data['gender'].unique()"
   ]
  },
  {
   "cell_type": "markdown",
   "id": "52cd8a8c",
   "metadata": {},
   "source": [
    "<span style=\"color: blue; font-size: 25px\">-- ever_married column</span>\n"
   ]
  },
  {
   "cell_type": "code",
   "execution_count": 468,
   "id": "f0d6966b",
   "metadata": {},
   "outputs": [
    {
     "data": {
      "text/plain": [
       "array(['Yes', 'No'], dtype=object)"
      ]
     },
     "execution_count": 468,
     "metadata": {},
     "output_type": "execute_result"
    }
   ],
   "source": [
    "logistic_data['ever_married'].unique()"
   ]
  },
  {
   "cell_type": "code",
   "execution_count": 469,
   "id": "2763dd85",
   "metadata": {},
   "outputs": [],
   "source": [
    "# encode the boolean values\n",
    "logistic_data['ever_married'] = [1 if value == 'Yes' else 0 for value in logistic_data['ever_married']]"
   ]
  },
  {
   "cell_type": "code",
   "execution_count": 470,
   "id": "8c60295d",
   "metadata": {},
   "outputs": [
    {
     "data": {
      "text/plain": [
       "array([1, 0])"
      ]
     },
     "execution_count": 470,
     "metadata": {},
     "output_type": "execute_result"
    }
   ],
   "source": [
    "logistic_data['ever_married'].unique()"
   ]
  },
  {
   "cell_type": "markdown",
   "id": "cfb4e520",
   "metadata": {},
   "source": [
    "<span style=\"color: blue; font-size: 25px\">-- work_type column</span>\n"
   ]
  },
  {
   "cell_type": "code",
   "execution_count": 471,
   "id": "8033a9cb",
   "metadata": {},
   "outputs": [
    {
     "data": {
      "text/plain": [
       "array(['Private', 'Self-employed', 'Govt_job', 'children', 'Never_worked'],\n",
       "      dtype=object)"
      ]
     },
     "execution_count": 471,
     "metadata": {},
     "output_type": "execute_result"
    }
   ],
   "source": [
    "logistic_data['work_type'].unique()"
   ]
  },
  {
   "cell_type": "code",
   "execution_count": 472,
   "id": "0d66ac91",
   "metadata": {},
   "outputs": [
    {
     "data": {
      "text/plain": [
       "work_type\n",
       "Private          2810\n",
       "Self-employed     775\n",
       "children          671\n",
       "Govt_job          630\n",
       "Never_worked       22\n",
       "Name: count, dtype: int64"
      ]
     },
     "execution_count": 472,
     "metadata": {},
     "output_type": "execute_result"
    }
   ],
   "source": [
    "logistic_data['work_type'].value_counts()"
   ]
  },
  {
   "cell_type": "code",
   "execution_count": 473,
   "id": "a7e4665e",
   "metadata": {},
   "outputs": [],
   "source": [
    "# Create the encoder using sklearn\n",
    "encoder = OneHotEncoder(sparse_output=False, drop='first')\n",
    "encoded = encoder.fit_transform(logistic_data[['work_type']])\n",
    "encoded_df = pd.DataFrame(encoded, columns=encoder.get_feature_names_out(['work_type']))\n",
    "\n",
    "#Encode the values\n",
    "logistic_data = pd.concat([logistic_data.drop('work_type', axis=1), encoded_df], axis=1)"
   ]
  },
  {
   "cell_type": "code",
   "execution_count": 474,
   "id": "1e2185cd",
   "metadata": {},
   "outputs": [
    {
     "data": {
      "text/plain": [
       "(5101, 14)"
      ]
     },
     "execution_count": 474,
     "metadata": {},
     "output_type": "execute_result"
    }
   ],
   "source": [
    "logistic_data.shape"
   ]
  },
  {
   "cell_type": "markdown",
   "id": "00456432",
   "metadata": {},
   "source": [
    "<span style=\"color: blue; font-size: 25px\">-- Residence_type columns</span>"
   ]
  },
  {
   "cell_type": "code",
   "execution_count": 475,
   "id": "5c308d82",
   "metadata": {},
   "outputs": [
    {
     "data": {
      "text/plain": [
       "array(['Urban', 'Rural', nan], dtype=object)"
      ]
     },
     "execution_count": 475,
     "metadata": {},
     "output_type": "execute_result"
    }
   ],
   "source": [
    "logistic_data['Residence_type'].unique()"
   ]
  },
  {
   "cell_type": "code",
   "execution_count": 476,
   "id": "307e1b04",
   "metadata": {},
   "outputs": [
    {
     "data": {
      "text/plain": [
       "Residence_type\n",
       "Urban    2490\n",
       "Rural    2418\n",
       "Name: count, dtype: int64"
      ]
     },
     "execution_count": 476,
     "metadata": {},
     "output_type": "execute_result"
    }
   ],
   "source": [
    "logistic_data['Residence_type'].value_counts()"
   ]
  },
  {
   "cell_type": "code",
   "execution_count": 477,
   "id": "61a51642",
   "metadata": {},
   "outputs": [],
   "source": [
    "# encode the Residence_type 1 for urban and 0 for Rural\n",
    "logistic_data['Residence_type'] = [1 if value == 'Urban' else 0 for value in logistic_data['Residence_type']]"
   ]
  },
  {
   "cell_type": "code",
   "execution_count": 478,
   "id": "d80fcbc8",
   "metadata": {},
   "outputs": [
    {
     "data": {
      "text/plain": [
       "array([1, 0])"
      ]
     },
     "execution_count": 478,
     "metadata": {},
     "output_type": "execute_result"
    }
   ],
   "source": [
    "logistic_data['Residence_type'].unique()"
   ]
  },
  {
   "cell_type": "markdown",
   "id": "b634bbf9",
   "metadata": {},
   "source": [
    "<span style=\"color: blue; font-size: 25px\">-- Smoking status column</span>"
   ]
  },
  {
   "cell_type": "code",
   "execution_count": 479,
   "id": "dea19406",
   "metadata": {},
   "outputs": [
    {
     "data": {
      "text/plain": [
       "array(['formerly smoked', 'never smoked', 'smokes', 'Unknown', nan],\n",
       "      dtype=object)"
      ]
     },
     "execution_count": 479,
     "metadata": {},
     "output_type": "execute_result"
    }
   ],
   "source": [
    "logistic_data['smoking_status'].unique()"
   ]
  },
  {
   "cell_type": "code",
   "execution_count": 480,
   "id": "8142d3da",
   "metadata": {},
   "outputs": [
    {
     "data": {
      "text/plain": [
       "smoking_status\n",
       "never smoked       1852\n",
       "Unknown            1483\n",
       "formerly smoked     836\n",
       "smokes              737\n",
       "Name: count, dtype: int64"
      ]
     },
     "execution_count": 480,
     "metadata": {},
     "output_type": "execute_result"
    }
   ],
   "source": [
    "logistic_data['smoking_status'].value_counts()"
   ]
  },
  {
   "cell_type": "code",
   "execution_count": 481,
   "id": "66ca4410",
   "metadata": {},
   "outputs": [],
   "source": [
    "# Create the encoder using sklearn\n",
    "encoder = OneHotEncoder(sparse_output=False, drop='first')\n",
    "encoded = encoder.fit_transform(logistic_data[['smoking_status']])\n",
    "encoded_df = pd.DataFrame(encoded, columns=encoder.get_feature_names_out(['smoking_status']))\n",
    "\n",
    "#Encode the values\n",
    "logistic_data = pd.concat([logistic_data.drop('smoking_status', axis=1), encoded_df], axis=1)"
   ]
  },
  {
   "cell_type": "markdown",
   "id": "66e7956c",
   "metadata": {},
   "source": [
    "---"
   ]
  },
  {
   "cell_type": "code",
   "execution_count": 482,
   "id": "a8fe88b4",
   "metadata": {},
   "outputs": [
    {
     "data": {
      "text/plain": [
       "(5109, 17)"
      ]
     },
     "execution_count": 482,
     "metadata": {},
     "output_type": "execute_result"
    }
   ],
   "source": [
    "logistic_data.shape"
   ]
  },
  {
   "cell_type": "code",
   "execution_count": 483,
   "id": "e57dcb5b",
   "metadata": {},
   "outputs": [
    {
     "name": "stdout",
     "output_type": "stream",
     "text": [
      "<class 'pandas.core.frame.DataFrame'>\n",
      "Index: 5109 entries, 0 to 5099\n",
      "Data columns (total 17 columns):\n",
      " #   Column                          Non-Null Count  Dtype  \n",
      "---  ------                          --------------  -----  \n",
      " 0   gender                          4908 non-null   float64\n",
      " 1   age                             4908 non-null   float64\n",
      " 2   hypertension                    4908 non-null   float64\n",
      " 3   heart_disease                   4908 non-null   float64\n",
      " 4   ever_married                    4908 non-null   float64\n",
      " 5   Residence_type                  5101 non-null   float64\n",
      " 6   avg_glucose_level               4908 non-null   float64\n",
      " 7   bmi                             4908 non-null   float64\n",
      " 8   stroke                          4908 non-null   float64\n",
      " 9   work_type_Never_worked          4908 non-null   float64\n",
      " 10  work_type_Private               4908 non-null   float64\n",
      " 11  work_type_Self-employed         4908 non-null   float64\n",
      " 12  work_type_children              4908 non-null   float64\n",
      " 13  smoking_status_formerly smoked  5101 non-null   float64\n",
      " 14  smoking_status_never smoked     5101 non-null   float64\n",
      " 15  smoking_status_smokes           5101 non-null   float64\n",
      " 16  smoking_status_nan              5101 non-null   float64\n",
      "dtypes: float64(17)\n",
      "memory usage: 718.5 KB\n"
     ]
    }
   ],
   "source": [
    "logistic_data.info()"
   ]
  },
  {
   "cell_type": "code",
   "execution_count": 484,
   "id": "ce405ea3",
   "metadata": {},
   "outputs": [
    {
     "data": {
      "text/plain": [
       "gender                            201\n",
       "age                               201\n",
       "hypertension                      201\n",
       "heart_disease                     201\n",
       "ever_married                      201\n",
       "Residence_type                      8\n",
       "avg_glucose_level                 201\n",
       "bmi                               201\n",
       "stroke                            201\n",
       "work_type_Never_worked            201\n",
       "work_type_Private                 201\n",
       "work_type_Self-employed           201\n",
       "work_type_children                201\n",
       "smoking_status_formerly smoked      8\n",
       "smoking_status_never smoked         8\n",
       "smoking_status_smokes               8\n",
       "smoking_status_nan                  8\n",
       "dtype: int64"
      ]
     },
     "execution_count": 484,
     "metadata": {},
     "output_type": "execute_result"
    }
   ],
   "source": [
    "logistic_data.isnull().sum()"
   ]
  },
  {
   "cell_type": "code",
   "execution_count": 485,
   "id": "ea5df99b",
   "metadata": {},
   "outputs": [],
   "source": [
    "# Drops ALL rows with ANY null values\n",
    "logistic_data.dropna(inplace=True)"
   ]
  },
  {
   "cell_type": "code",
   "execution_count": 486,
   "id": "c7d7e885",
   "metadata": {},
   "outputs": [
    {
     "data": {
      "text/plain": [
       "gender                            0\n",
       "age                               0\n",
       "hypertension                      0\n",
       "heart_disease                     0\n",
       "ever_married                      0\n",
       "Residence_type                    0\n",
       "avg_glucose_level                 0\n",
       "bmi                               0\n",
       "stroke                            0\n",
       "work_type_Never_worked            0\n",
       "work_type_Private                 0\n",
       "work_type_Self-employed           0\n",
       "work_type_children                0\n",
       "smoking_status_formerly smoked    0\n",
       "smoking_status_never smoked       0\n",
       "smoking_status_smokes             0\n",
       "smoking_status_nan                0\n",
       "dtype: int64"
      ]
     },
     "execution_count": 486,
     "metadata": {},
     "output_type": "execute_result"
    }
   ],
   "source": [
    "logistic_data.isnull().sum()"
   ]
  },
  {
   "cell_type": "code",
   "execution_count": 487,
   "id": "b414cf84",
   "metadata": {},
   "outputs": [
    {
     "data": {
      "application/vnd.microsoft.datawrangler.viewer.v0+json": {
       "columns": [
        {
         "name": "index",
         "rawType": "int64",
         "type": "integer"
        },
        {
         "name": "gender",
         "rawType": "float64",
         "type": "float"
        },
        {
         "name": "age",
         "rawType": "float64",
         "type": "float"
        },
        {
         "name": "hypertension",
         "rawType": "float64",
         "type": "float"
        },
        {
         "name": "heart_disease",
         "rawType": "float64",
         "type": "float"
        },
        {
         "name": "ever_married",
         "rawType": "float64",
         "type": "float"
        },
        {
         "name": "Residence_type",
         "rawType": "float64",
         "type": "float"
        },
        {
         "name": "avg_glucose_level",
         "rawType": "float64",
         "type": "float"
        },
        {
         "name": "bmi",
         "rawType": "float64",
         "type": "float"
        },
        {
         "name": "stroke",
         "rawType": "float64",
         "type": "float"
        },
        {
         "name": "work_type_Never_worked",
         "rawType": "float64",
         "type": "float"
        },
        {
         "name": "work_type_Private",
         "rawType": "float64",
         "type": "float"
        },
        {
         "name": "work_type_Self-employed",
         "rawType": "float64",
         "type": "float"
        },
        {
         "name": "work_type_children",
         "rawType": "float64",
         "type": "float"
        },
        {
         "name": "smoking_status_formerly smoked",
         "rawType": "float64",
         "type": "float"
        },
        {
         "name": "smoking_status_never smoked",
         "rawType": "float64",
         "type": "float"
        },
        {
         "name": "smoking_status_smokes",
         "rawType": "float64",
         "type": "float"
        },
        {
         "name": "smoking_status_nan",
         "rawType": "float64",
         "type": "float"
        }
       ],
       "conversionMethod": "pd.DataFrame",
       "ref": "d693be52-ab83-41d5-a569-d11f280fec44",
       "rows": [
        [
         "0",
         "1.0",
         "67.0",
         "0.0",
         "1.0",
         "1.0",
         "1.0",
         "228.69",
         "36.6",
         "1.0",
         "0.0",
         "1.0",
         "0.0",
         "0.0",
         "1.0",
         "0.0",
         "0.0",
         "0.0"
        ],
        [
         "2",
         "1.0",
         "80.0",
         "0.0",
         "1.0",
         "1.0",
         "0.0",
         "105.92",
         "32.5",
         "1.0",
         "0.0",
         "1.0",
         "0.0",
         "0.0",
         "0.0",
         "0.0",
         "1.0",
         "0.0"
        ],
        [
         "3",
         "0.0",
         "49.0",
         "0.0",
         "0.0",
         "1.0",
         "1.0",
         "171.23",
         "34.4",
         "1.0",
         "0.0",
         "0.0",
         "1.0",
         "0.0",
         "0.0",
         "1.0",
         "0.0",
         "0.0"
        ],
        [
         "4",
         "0.0",
         "79.0",
         "1.0",
         "0.0",
         "1.0",
         "0.0",
         "174.12",
         "24.0",
         "1.0",
         "0.0",
         "1.0",
         "0.0",
         "0.0",
         "1.0",
         "0.0",
         "0.0",
         "0.0"
        ],
        [
         "5",
         "1.0",
         "81.0",
         "0.0",
         "0.0",
         "1.0",
         "1.0",
         "186.21",
         "29.0",
         "1.0",
         "0.0",
         "1.0",
         "0.0",
         "0.0",
         "0.0",
         "1.0",
         "0.0",
         "0.0"
        ]
       ],
       "shape": {
        "columns": 17,
        "rows": 5
       }
      },
      "text/html": [
       "<div>\n",
       "<style scoped>\n",
       "    .dataframe tbody tr th:only-of-type {\n",
       "        vertical-align: middle;\n",
       "    }\n",
       "\n",
       "    .dataframe tbody tr th {\n",
       "        vertical-align: top;\n",
       "    }\n",
       "\n",
       "    .dataframe thead th {\n",
       "        text-align: right;\n",
       "    }\n",
       "</style>\n",
       "<table border=\"1\" class=\"dataframe\">\n",
       "  <thead>\n",
       "    <tr style=\"text-align: right;\">\n",
       "      <th></th>\n",
       "      <th>gender</th>\n",
       "      <th>age</th>\n",
       "      <th>hypertension</th>\n",
       "      <th>heart_disease</th>\n",
       "      <th>ever_married</th>\n",
       "      <th>Residence_type</th>\n",
       "      <th>avg_glucose_level</th>\n",
       "      <th>bmi</th>\n",
       "      <th>stroke</th>\n",
       "      <th>work_type_Never_worked</th>\n",
       "      <th>work_type_Private</th>\n",
       "      <th>work_type_Self-employed</th>\n",
       "      <th>work_type_children</th>\n",
       "      <th>smoking_status_formerly smoked</th>\n",
       "      <th>smoking_status_never smoked</th>\n",
       "      <th>smoking_status_smokes</th>\n",
       "      <th>smoking_status_nan</th>\n",
       "    </tr>\n",
       "  </thead>\n",
       "  <tbody>\n",
       "    <tr>\n",
       "      <th>0</th>\n",
       "      <td>1.0</td>\n",
       "      <td>67.0</td>\n",
       "      <td>0.0</td>\n",
       "      <td>1.0</td>\n",
       "      <td>1.0</td>\n",
       "      <td>1.0</td>\n",
       "      <td>228.69</td>\n",
       "      <td>36.6</td>\n",
       "      <td>1.0</td>\n",
       "      <td>0.0</td>\n",
       "      <td>1.0</td>\n",
       "      <td>0.0</td>\n",
       "      <td>0.0</td>\n",
       "      <td>1.0</td>\n",
       "      <td>0.0</td>\n",
       "      <td>0.0</td>\n",
       "      <td>0.0</td>\n",
       "    </tr>\n",
       "    <tr>\n",
       "      <th>2</th>\n",
       "      <td>1.0</td>\n",
       "      <td>80.0</td>\n",
       "      <td>0.0</td>\n",
       "      <td>1.0</td>\n",
       "      <td>1.0</td>\n",
       "      <td>0.0</td>\n",
       "      <td>105.92</td>\n",
       "      <td>32.5</td>\n",
       "      <td>1.0</td>\n",
       "      <td>0.0</td>\n",
       "      <td>1.0</td>\n",
       "      <td>0.0</td>\n",
       "      <td>0.0</td>\n",
       "      <td>0.0</td>\n",
       "      <td>0.0</td>\n",
       "      <td>1.0</td>\n",
       "      <td>0.0</td>\n",
       "    </tr>\n",
       "    <tr>\n",
       "      <th>3</th>\n",
       "      <td>0.0</td>\n",
       "      <td>49.0</td>\n",
       "      <td>0.0</td>\n",
       "      <td>0.0</td>\n",
       "      <td>1.0</td>\n",
       "      <td>1.0</td>\n",
       "      <td>171.23</td>\n",
       "      <td>34.4</td>\n",
       "      <td>1.0</td>\n",
       "      <td>0.0</td>\n",
       "      <td>0.0</td>\n",
       "      <td>1.0</td>\n",
       "      <td>0.0</td>\n",
       "      <td>0.0</td>\n",
       "      <td>1.0</td>\n",
       "      <td>0.0</td>\n",
       "      <td>0.0</td>\n",
       "    </tr>\n",
       "    <tr>\n",
       "      <th>4</th>\n",
       "      <td>0.0</td>\n",
       "      <td>79.0</td>\n",
       "      <td>1.0</td>\n",
       "      <td>0.0</td>\n",
       "      <td>1.0</td>\n",
       "      <td>0.0</td>\n",
       "      <td>174.12</td>\n",
       "      <td>24.0</td>\n",
       "      <td>1.0</td>\n",
       "      <td>0.0</td>\n",
       "      <td>1.0</td>\n",
       "      <td>0.0</td>\n",
       "      <td>0.0</td>\n",
       "      <td>1.0</td>\n",
       "      <td>0.0</td>\n",
       "      <td>0.0</td>\n",
       "      <td>0.0</td>\n",
       "    </tr>\n",
       "    <tr>\n",
       "      <th>5</th>\n",
       "      <td>1.0</td>\n",
       "      <td>81.0</td>\n",
       "      <td>0.0</td>\n",
       "      <td>0.0</td>\n",
       "      <td>1.0</td>\n",
       "      <td>1.0</td>\n",
       "      <td>186.21</td>\n",
       "      <td>29.0</td>\n",
       "      <td>1.0</td>\n",
       "      <td>0.0</td>\n",
       "      <td>1.0</td>\n",
       "      <td>0.0</td>\n",
       "      <td>0.0</td>\n",
       "      <td>0.0</td>\n",
       "      <td>1.0</td>\n",
       "      <td>0.0</td>\n",
       "      <td>0.0</td>\n",
       "    </tr>\n",
       "  </tbody>\n",
       "</table>\n",
       "</div>"
      ],
      "text/plain": [
       "   gender   age  hypertension  heart_disease  ever_married  Residence_type  \\\n",
       "0     1.0  67.0           0.0            1.0           1.0             1.0   \n",
       "2     1.0  80.0           0.0            1.0           1.0             0.0   \n",
       "3     0.0  49.0           0.0            0.0           1.0             1.0   \n",
       "4     0.0  79.0           1.0            0.0           1.0             0.0   \n",
       "5     1.0  81.0           0.0            0.0           1.0             1.0   \n",
       "\n",
       "   avg_glucose_level   bmi  stroke  work_type_Never_worked  work_type_Private  \\\n",
       "0             228.69  36.6     1.0                     0.0                1.0   \n",
       "2             105.92  32.5     1.0                     0.0                1.0   \n",
       "3             171.23  34.4     1.0                     0.0                0.0   \n",
       "4             174.12  24.0     1.0                     0.0                1.0   \n",
       "5             186.21  29.0     1.0                     0.0                1.0   \n",
       "\n",
       "   work_type_Self-employed  work_type_children  \\\n",
       "0                      0.0                 0.0   \n",
       "2                      0.0                 0.0   \n",
       "3                      1.0                 0.0   \n",
       "4                      0.0                 0.0   \n",
       "5                      0.0                 0.0   \n",
       "\n",
       "   smoking_status_formerly smoked  smoking_status_never smoked  \\\n",
       "0                             1.0                          0.0   \n",
       "2                             0.0                          0.0   \n",
       "3                             0.0                          1.0   \n",
       "4                             1.0                          0.0   \n",
       "5                             0.0                          1.0   \n",
       "\n",
       "   smoking_status_smokes  smoking_status_nan  \n",
       "0                    0.0                 0.0  \n",
       "2                    1.0                 0.0  \n",
       "3                    0.0                 0.0  \n",
       "4                    0.0                 0.0  \n",
       "5                    0.0                 0.0  "
      ]
     },
     "execution_count": 487,
     "metadata": {},
     "output_type": "execute_result"
    }
   ],
   "source": [
    "logistic_data.head(5)"
   ]
  },
  {
   "cell_type": "code",
   "execution_count": 488,
   "id": "cd54493c",
   "metadata": {},
   "outputs": [
    {
     "data": {
      "text/plain": [
       "(4715, 17)"
      ]
     },
     "execution_count": 488,
     "metadata": {},
     "output_type": "execute_result"
    }
   ],
   "source": [
    "logistic_data.shape"
   ]
  },
  {
   "cell_type": "markdown",
   "id": "82e9575c",
   "metadata": {},
   "source": [
    "_Summary of the dataset_\n",
    "\n",
    "---\n",
    "\n",
    "**bmi contains missing values , dropped all null values**\n",
    "\n",
    "**some types are appropriate:**\n",
    "\n",
    "    - > variables like age, avg_glucose_level and bmi are float64\n",
    "\n",
    "    - > variables like id, hypertension, heart_disease and stroke are int64\n",
    "\n",
    "**There are some categorical features present, so encoding was necessary**\n",
    "\n",
    "---\n"
   ]
  },
  {
   "cell_type": "markdown",
   "id": "21345915",
   "metadata": {},
   "source": [
    "<span style=\"color: green; font-weight: bold; font-size: 30px;\">Starting logistic regression classification...</span>"
   ]
  },
  {
   "cell_type": "code",
   "execution_count": 489,
   "id": "fb8dca96",
   "metadata": {},
   "outputs": [
    {
     "data": {
      "text/plain": [
       "stroke\n",
       "0.0    4506\n",
       "1.0     209\n",
       "Name: count, dtype: int64"
      ]
     },
     "execution_count": 489,
     "metadata": {},
     "output_type": "execute_result"
    }
   ],
   "source": [
    "# Check data to ensure that the data is not biased.\n",
    "logistic_data['stroke'].value_counts()"
   ]
  },
  {
   "cell_type": "markdown",
   "id": "e55ba740",
   "metadata": {},
   "source": [
    "_The data may be biased to negative diagnosis_"
   ]
  },
  {
   "cell_type": "markdown",
   "id": "fe641073",
   "metadata": {},
   "source": [
    "---"
   ]
  },
  {
   "cell_type": "markdown",
   "id": "7be88255",
   "metadata": {},
   "source": [
    "<span style=\"color:rgb(181, 52, 255); font-weight: bold; font-size: 20px;\">-- Divide data into target variable and predictors </span>"
   ]
  },
  {
   "cell_type": "code",
   "execution_count": 490,
   "id": "ec2dce3d",
   "metadata": {},
   "outputs": [],
   "source": [
    "Y = logistic_data['stroke']\n",
    "X = logistic_data.drop(['stroke'], axis = 1)"
   ]
  },
  {
   "cell_type": "code",
   "execution_count": 491,
   "id": "78140b4e",
   "metadata": {},
   "outputs": [
    {
     "data": {
      "text/plain": [
       "0    1.0\n",
       "2    1.0\n",
       "3    1.0\n",
       "4    1.0\n",
       "5    1.0\n",
       "Name: stroke, dtype: float64"
      ]
     },
     "execution_count": 491,
     "metadata": {},
     "output_type": "execute_result"
    }
   ],
   "source": [
    "Y.head(5)"
   ]
  },
  {
   "cell_type": "code",
   "execution_count": 492,
   "id": "8c0020c1",
   "metadata": {},
   "outputs": [
    {
     "data": {
      "application/vnd.microsoft.datawrangler.viewer.v0+json": {
       "columns": [
        {
         "name": "index",
         "rawType": "int64",
         "type": "integer"
        },
        {
         "name": "gender",
         "rawType": "float64",
         "type": "float"
        },
        {
         "name": "age",
         "rawType": "float64",
         "type": "float"
        },
        {
         "name": "hypertension",
         "rawType": "float64",
         "type": "float"
        },
        {
         "name": "heart_disease",
         "rawType": "float64",
         "type": "float"
        },
        {
         "name": "ever_married",
         "rawType": "float64",
         "type": "float"
        },
        {
         "name": "Residence_type",
         "rawType": "float64",
         "type": "float"
        },
        {
         "name": "avg_glucose_level",
         "rawType": "float64",
         "type": "float"
        },
        {
         "name": "bmi",
         "rawType": "float64",
         "type": "float"
        },
        {
         "name": "work_type_Never_worked",
         "rawType": "float64",
         "type": "float"
        },
        {
         "name": "work_type_Private",
         "rawType": "float64",
         "type": "float"
        },
        {
         "name": "work_type_Self-employed",
         "rawType": "float64",
         "type": "float"
        },
        {
         "name": "work_type_children",
         "rawType": "float64",
         "type": "float"
        },
        {
         "name": "smoking_status_formerly smoked",
         "rawType": "float64",
         "type": "float"
        },
        {
         "name": "smoking_status_never smoked",
         "rawType": "float64",
         "type": "float"
        },
        {
         "name": "smoking_status_smokes",
         "rawType": "float64",
         "type": "float"
        },
        {
         "name": "smoking_status_nan",
         "rawType": "float64",
         "type": "float"
        }
       ],
       "conversionMethod": "pd.DataFrame",
       "ref": "795e2085-6500-4897-b18f-4e4f0920fb02",
       "rows": [
        [
         "0",
         "1.0",
         "67.0",
         "0.0",
         "1.0",
         "1.0",
         "1.0",
         "228.69",
         "36.6",
         "0.0",
         "1.0",
         "0.0",
         "0.0",
         "1.0",
         "0.0",
         "0.0",
         "0.0"
        ],
        [
         "2",
         "1.0",
         "80.0",
         "0.0",
         "1.0",
         "1.0",
         "0.0",
         "105.92",
         "32.5",
         "0.0",
         "1.0",
         "0.0",
         "0.0",
         "0.0",
         "0.0",
         "1.0",
         "0.0"
        ],
        [
         "3",
         "0.0",
         "49.0",
         "0.0",
         "0.0",
         "1.0",
         "1.0",
         "171.23",
         "34.4",
         "0.0",
         "0.0",
         "1.0",
         "0.0",
         "0.0",
         "1.0",
         "0.0",
         "0.0"
        ],
        [
         "4",
         "0.0",
         "79.0",
         "1.0",
         "0.0",
         "1.0",
         "0.0",
         "174.12",
         "24.0",
         "0.0",
         "1.0",
         "0.0",
         "0.0",
         "1.0",
         "0.0",
         "0.0",
         "0.0"
        ],
        [
         "5",
         "1.0",
         "81.0",
         "0.0",
         "0.0",
         "1.0",
         "1.0",
         "186.21",
         "29.0",
         "0.0",
         "1.0",
         "0.0",
         "0.0",
         "0.0",
         "1.0",
         "0.0",
         "0.0"
        ]
       ],
       "shape": {
        "columns": 16,
        "rows": 5
       }
      },
      "text/html": [
       "<div>\n",
       "<style scoped>\n",
       "    .dataframe tbody tr th:only-of-type {\n",
       "        vertical-align: middle;\n",
       "    }\n",
       "\n",
       "    .dataframe tbody tr th {\n",
       "        vertical-align: top;\n",
       "    }\n",
       "\n",
       "    .dataframe thead th {\n",
       "        text-align: right;\n",
       "    }\n",
       "</style>\n",
       "<table border=\"1\" class=\"dataframe\">\n",
       "  <thead>\n",
       "    <tr style=\"text-align: right;\">\n",
       "      <th></th>\n",
       "      <th>gender</th>\n",
       "      <th>age</th>\n",
       "      <th>hypertension</th>\n",
       "      <th>heart_disease</th>\n",
       "      <th>ever_married</th>\n",
       "      <th>Residence_type</th>\n",
       "      <th>avg_glucose_level</th>\n",
       "      <th>bmi</th>\n",
       "      <th>work_type_Never_worked</th>\n",
       "      <th>work_type_Private</th>\n",
       "      <th>work_type_Self-employed</th>\n",
       "      <th>work_type_children</th>\n",
       "      <th>smoking_status_formerly smoked</th>\n",
       "      <th>smoking_status_never smoked</th>\n",
       "      <th>smoking_status_smokes</th>\n",
       "      <th>smoking_status_nan</th>\n",
       "    </tr>\n",
       "  </thead>\n",
       "  <tbody>\n",
       "    <tr>\n",
       "      <th>0</th>\n",
       "      <td>1.0</td>\n",
       "      <td>67.0</td>\n",
       "      <td>0.0</td>\n",
       "      <td>1.0</td>\n",
       "      <td>1.0</td>\n",
       "      <td>1.0</td>\n",
       "      <td>228.69</td>\n",
       "      <td>36.6</td>\n",
       "      <td>0.0</td>\n",
       "      <td>1.0</td>\n",
       "      <td>0.0</td>\n",
       "      <td>0.0</td>\n",
       "      <td>1.0</td>\n",
       "      <td>0.0</td>\n",
       "      <td>0.0</td>\n",
       "      <td>0.0</td>\n",
       "    </tr>\n",
       "    <tr>\n",
       "      <th>2</th>\n",
       "      <td>1.0</td>\n",
       "      <td>80.0</td>\n",
       "      <td>0.0</td>\n",
       "      <td>1.0</td>\n",
       "      <td>1.0</td>\n",
       "      <td>0.0</td>\n",
       "      <td>105.92</td>\n",
       "      <td>32.5</td>\n",
       "      <td>0.0</td>\n",
       "      <td>1.0</td>\n",
       "      <td>0.0</td>\n",
       "      <td>0.0</td>\n",
       "      <td>0.0</td>\n",
       "      <td>0.0</td>\n",
       "      <td>1.0</td>\n",
       "      <td>0.0</td>\n",
       "    </tr>\n",
       "    <tr>\n",
       "      <th>3</th>\n",
       "      <td>0.0</td>\n",
       "      <td>49.0</td>\n",
       "      <td>0.0</td>\n",
       "      <td>0.0</td>\n",
       "      <td>1.0</td>\n",
       "      <td>1.0</td>\n",
       "      <td>171.23</td>\n",
       "      <td>34.4</td>\n",
       "      <td>0.0</td>\n",
       "      <td>0.0</td>\n",
       "      <td>1.0</td>\n",
       "      <td>0.0</td>\n",
       "      <td>0.0</td>\n",
       "      <td>1.0</td>\n",
       "      <td>0.0</td>\n",
       "      <td>0.0</td>\n",
       "    </tr>\n",
       "    <tr>\n",
       "      <th>4</th>\n",
       "      <td>0.0</td>\n",
       "      <td>79.0</td>\n",
       "      <td>1.0</td>\n",
       "      <td>0.0</td>\n",
       "      <td>1.0</td>\n",
       "      <td>0.0</td>\n",
       "      <td>174.12</td>\n",
       "      <td>24.0</td>\n",
       "      <td>0.0</td>\n",
       "      <td>1.0</td>\n",
       "      <td>0.0</td>\n",
       "      <td>0.0</td>\n",
       "      <td>1.0</td>\n",
       "      <td>0.0</td>\n",
       "      <td>0.0</td>\n",
       "      <td>0.0</td>\n",
       "    </tr>\n",
       "    <tr>\n",
       "      <th>5</th>\n",
       "      <td>1.0</td>\n",
       "      <td>81.0</td>\n",
       "      <td>0.0</td>\n",
       "      <td>0.0</td>\n",
       "      <td>1.0</td>\n",
       "      <td>1.0</td>\n",
       "      <td>186.21</td>\n",
       "      <td>29.0</td>\n",
       "      <td>0.0</td>\n",
       "      <td>1.0</td>\n",
       "      <td>0.0</td>\n",
       "      <td>0.0</td>\n",
       "      <td>0.0</td>\n",
       "      <td>1.0</td>\n",
       "      <td>0.0</td>\n",
       "      <td>0.0</td>\n",
       "    </tr>\n",
       "  </tbody>\n",
       "</table>\n",
       "</div>"
      ],
      "text/plain": [
       "   gender   age  hypertension  heart_disease  ever_married  Residence_type  \\\n",
       "0     1.0  67.0           0.0            1.0           1.0             1.0   \n",
       "2     1.0  80.0           0.0            1.0           1.0             0.0   \n",
       "3     0.0  49.0           0.0            0.0           1.0             1.0   \n",
       "4     0.0  79.0           1.0            0.0           1.0             0.0   \n",
       "5     1.0  81.0           0.0            0.0           1.0             1.0   \n",
       "\n",
       "   avg_glucose_level   bmi  work_type_Never_worked  work_type_Private  \\\n",
       "0             228.69  36.6                     0.0                1.0   \n",
       "2             105.92  32.5                     0.0                1.0   \n",
       "3             171.23  34.4                     0.0                0.0   \n",
       "4             174.12  24.0                     0.0                1.0   \n",
       "5             186.21  29.0                     0.0                1.0   \n",
       "\n",
       "   work_type_Self-employed  work_type_children  \\\n",
       "0                      0.0                 0.0   \n",
       "2                      0.0                 0.0   \n",
       "3                      1.0                 0.0   \n",
       "4                      0.0                 0.0   \n",
       "5                      0.0                 0.0   \n",
       "\n",
       "   smoking_status_formerly smoked  smoking_status_never smoked  \\\n",
       "0                             1.0                          0.0   \n",
       "2                             0.0                          0.0   \n",
       "3                             0.0                          1.0   \n",
       "4                             1.0                          0.0   \n",
       "5                             0.0                          1.0   \n",
       "\n",
       "   smoking_status_smokes  smoking_status_nan  \n",
       "0                    0.0                 0.0  \n",
       "2                    1.0                 0.0  \n",
       "3                    0.0                 0.0  \n",
       "4                    0.0                 0.0  \n",
       "5                    0.0                 0.0  "
      ]
     },
     "execution_count": 492,
     "metadata": {},
     "output_type": "execute_result"
    }
   ],
   "source": [
    "X.head(5)"
   ]
  },
  {
   "cell_type": "markdown",
   "id": "6d954ea4",
   "metadata": {},
   "source": [
    "<span style=\"color:rgb(181, 52, 255); font-weight: bold; font-size: 20px;\">-- Normalizing the predictors </span>"
   ]
  },
  {
   "cell_type": "code",
   "execution_count": 493,
   "id": "63941a48",
   "metadata": {},
   "outputs": [],
   "source": [
    "#create a scaler object\n",
    "scaler = StandardScaler()\n",
    "\n",
    "# fit the scaler to the data\n",
    "X_scaled = scaler.fit_transform(X)"
   ]
  },
  {
   "cell_type": "code",
   "execution_count": 494,
   "id": "3543f85b",
   "metadata": {},
   "outputs": [
    {
     "data": {
      "text/plain": [
       "array([[ 1.19704659,  1.06559145, -0.32081767, ..., -0.78404466,\n",
       "        -0.4182481 ,  0.        ],\n",
       "       [ 1.19704659,  1.64192262, -0.32081767, ..., -0.78404466,\n",
       "         2.39092539,  0.        ],\n",
       "       [-0.83538937,  0.26759443, -0.32081767, ...,  1.27543755,\n",
       "        -0.4182481 ,  0.        ],\n",
       "       ...,\n",
       "       [-0.83538937,  0.75525928, -0.32081767, ...,  1.27543755,\n",
       "        -0.4182481 ,  0.        ],\n",
       "       [-0.83538937,  0.4449271 , -0.32081767, ..., -0.78404466,\n",
       "        -0.4182481 ,  0.        ],\n",
       "       [ 1.19704659,  0.53359344, -0.32081767, ..., -0.78404466,\n",
       "        -0.4182481 ,  0.        ]], shape=(4715, 16))"
      ]
     },
     "execution_count": 494,
     "metadata": {},
     "output_type": "execute_result"
    }
   ],
   "source": [
    "X_scaled"
   ]
  },
  {
   "cell_type": "markdown",
   "id": "f0f2f46b",
   "metadata": {},
   "source": [
    "<span style=\"color:rgb(181, 52, 255); font-weight: bold; font-size: 20px;\">-- Split the data into 80/20 </span>"
   ]
  },
  {
   "cell_type": "code",
   "execution_count": 495,
   "id": "6e6e1e78",
   "metadata": {},
   "outputs": [],
   "source": [
    "X_train, X_test, Y_train, Y_test = train_test_split(X_scaled, Y, test_size=0.2, random_state=7)"
   ]
  },
  {
   "cell_type": "code",
   "execution_count": 496,
   "id": "87332fa3",
   "metadata": {},
   "outputs": [
    {
     "data": {
      "text/plain": [
       "array([[ 1.19704659,  0.71092611, -0.32081767, ..., -0.78404466,\n",
       "         2.39092539,  0.        ],\n",
       "       [ 1.19704659, -1.50573226, -0.32081767, ..., -0.78404466,\n",
       "        -0.4182481 ,  0.        ],\n",
       "       [ 1.19704659,  1.50892312, -0.32081767, ...,  1.27543755,\n",
       "        -0.4182481 ,  0.        ],\n",
       "       ...,\n",
       "       [ 1.19704659,  1.28725728, -0.32081767, ..., -0.78404466,\n",
       "         2.39092539,  0.        ],\n",
       "       [ 1.19704659, -1.55006543, -0.32081767, ..., -0.78404466,\n",
       "        -0.4182481 ,  0.        ],\n",
       "       [-0.83538937,  0.84392561,  3.1170353 , ..., -0.78404466,\n",
       "        -0.4182481 ,  0.        ]], shape=(3772, 16))"
      ]
     },
     "execution_count": 496,
     "metadata": {},
     "output_type": "execute_result"
    }
   ],
   "source": [
    "X_train"
   ]
  },
  {
   "cell_type": "code",
   "execution_count": 497,
   "id": "80f58b43",
   "metadata": {},
   "outputs": [
    {
     "data": {
      "text/plain": [
       "array([[-0.83538937,  1.64192262, -0.32081767, ..., -0.78404466,\n",
       "        -0.4182481 ,  0.        ],\n",
       "       [-0.83538937, -1.46139909, -0.32081767, ..., -0.78404466,\n",
       "        -0.4182481 ,  0.        ],\n",
       "       [ 1.19704659, -1.41706593, -0.32081767, ..., -0.78404466,\n",
       "        -0.4182481 ,  0.        ],\n",
       "       ...,\n",
       "       [-0.83538937,  1.59758946, -0.32081767, ...,  1.27543755,\n",
       "        -0.4182481 ,  0.        ],\n",
       "       [ 1.19704659, -0.22007041, -0.32081767, ...,  1.27543755,\n",
       "        -0.4182481 ,  0.        ],\n",
       "       [-0.83538937,  0.62225977, -0.32081767, ..., -0.78404466,\n",
       "        -0.4182481 ,  0.        ]], shape=(943, 16))"
      ]
     },
     "execution_count": 497,
     "metadata": {},
     "output_type": "execute_result"
    }
   ],
   "source": [
    "X_test"
   ]
  },
  {
   "cell_type": "code",
   "execution_count": 498,
   "id": "a0ba83b1",
   "metadata": {},
   "outputs": [
    {
     "data": {
      "text/plain": [
       "192     1.0\n",
       "483     0.0\n",
       "3891    0.0\n",
       "3133    0.0\n",
       "1039    0.0\n",
       "       ... \n",
       "4493    0.0\n",
       "2675    0.0\n",
       "583     0.0\n",
       "1287    0.0\n",
       "4457    0.0\n",
       "Name: stroke, Length: 3772, dtype: float64"
      ]
     },
     "execution_count": 498,
     "metadata": {},
     "output_type": "execute_result"
    }
   ],
   "source": [
    "Y_train"
   ]
  },
  {
   "cell_type": "code",
   "execution_count": 499,
   "id": "c3e8dc98",
   "metadata": {},
   "outputs": [
    {
     "data": {
      "text/plain": [
       "1289    0.0\n",
       "2148    0.0\n",
       "3132    0.0\n",
       "1773    0.0\n",
       "474     0.0\n",
       "       ... \n",
       "1175    0.0\n",
       "76      1.0\n",
       "77      1.0\n",
       "1498    0.0\n",
       "3070    0.0\n",
       "Name: stroke, Length: 943, dtype: float64"
      ]
     },
     "execution_count": 499,
     "metadata": {},
     "output_type": "execute_result"
    }
   ],
   "source": [
    "Y_test"
   ]
  },
  {
   "cell_type": "markdown",
   "id": "b6125627",
   "metadata": {},
   "source": [
    "<span style=\"color:rgb(181, 52, 255); font-weight: bold; font-size: 20px;\">-- Training the model </span>"
   ]
  },
  {
   "cell_type": "code",
   "execution_count": 501,
   "id": "9920ba71",
   "metadata": {},
   "outputs": [],
   "source": [
    "# create the model\n",
    "Logistic_model = LogisticRegression(class_weight= 'balanced')\n",
    "\n",
    "# train the model on the training data\n",
    "Logistic_model.fit(X_train, Y_train)\n",
    "\n",
    "# predict the target variable on the test data\n",
    "Y_pred = Logistic_model.predict(X_test)"
   ]
  },
  {
   "cell_type": "markdown",
   "id": "93b887d5",
   "metadata": {},
   "source": [
    "<span style=\"color:rgb(181, 52, 255); font-weight: bold; font-size: 20px;\">-- Evaluating the model </span>"
   ]
  },
  {
   "cell_type": "markdown",
   "id": "73f4d324",
   "metadata": {},
   "source": [
    "<span style=\"color:cyan; font-weight: funny; font-size: 15px;\"> 1- Check the accuracy of the model</span>\n"
   ]
  },
  {
   "cell_type": "code",
   "execution_count": 502,
   "id": "682a9e89",
   "metadata": {},
   "outputs": [
    {
     "name": "stdout",
     "output_type": "stream",
     "text": [
      "Accuracy:  77.20 %\n"
     ]
    }
   ],
   "source": [
    "accuracy = accuracy_score(Y_test, Y_pred)\n",
    "print(f'Accuracy: {accuracy*100: .2f} %')"
   ]
  },
  {
   "cell_type": "markdown",
   "id": "deca088c",
   "metadata": {},
   "source": [
    "<span style=\"color:cyan; font-weight: funny; font-size: 15px;\"> 2- Calculate the confusion_matrix</span>\n"
   ]
  },
  {
   "cell_type": "code",
   "execution_count": 503,
   "id": "0f915555",
   "metadata": {},
   "outputs": [
    {
     "data": {
      "text/plain": [
       "array([[706, 204],\n",
       "       [ 11,  22]])"
      ]
     },
     "execution_count": 503,
     "metadata": {},
     "output_type": "execute_result"
    }
   ],
   "source": [
    "# Create the confusion matrix\n",
    "cm = confusion_matrix(Y_test, Y_pred)\n",
    "cm "
   ]
  },
  {
   "cell_type": "code",
   "execution_count": 509,
   "id": "502beecb",
   "metadata": {},
   "outputs": [
    {
     "data": {
      "image/png": "[encoded data removed]",
      "text/plain": [
       "<Figure size 800x600 with 2 Axes>"
      ]
     },
     "metadata": {},
     "output_type": "display_data"
    }
   ],
   "source": [
    "# Visualize the cm\n",
    "plt.figure(figsize=(8, 6))\n",
    "sns.heatmap(cm, annot=True, fmt='d', cmap='Blues', \n",
    "            xticklabels=['No Stroke', 'Stroke'],\n",
    "            yticklabels=['No Stroke', 'Stroke'])\n",
    "plt.title('Confusion Matrix')\n",
    "plt.ylabel('Actual label')\n",
    "plt.xlabel('Predicted label')\n",
    "plt.show()"
   ]
  },
  {
   "cell_type": "markdown",
   "id": "14262191",
   "metadata": {},
   "source": [
    "<span style=\"color:cyan; font-weight: funny; font-size: 15px;\"> 3- Report the analysis of the model</span>\n"
   ]
  },
  {
   "cell_type": "code",
   "execution_count": 504,
   "id": "ba6f83f4",
   "metadata": {},
   "outputs": [
    {
     "name": "stdout",
     "output_type": "stream",
     "text": [
      "              precision    recall  f1-score   support\n",
      "\n",
      "         0.0       0.98      0.78      0.87       910\n",
      "         1.0       0.10      0.67      0.17        33\n",
      "\n",
      "    accuracy                           0.77       943\n",
      "   macro avg       0.54      0.72      0.52       943\n",
      "weighted avg       0.95      0.77      0.84       943\n",
      "\n"
     ]
    }
   ],
   "source": [
    "print(classification_report(Y_test, Y_pred))"
   ]
  }
 ],
 "metadata": {
  "kernelspec": {
   "display_name": "Python 3",
   "language": "python",
   "name": "python3"
  },
  "language_info": {
   "codemirror_mode": {
    "name": "ipython",
    "version": 3
   },
   "file_extension": ".py",
   "mimetype": "text/x-python",
   "name": "python",
   "nbconvert_exporter": "python",
   "pygments_lexer": "ipython3",
   "version": "3.12.3"
  }
 },
 "nbformat": 4,
 "nbformat_minor": 5
}
